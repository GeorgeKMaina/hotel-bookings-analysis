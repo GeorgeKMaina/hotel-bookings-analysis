{
  "nbformat": 4,
  "nbformat_minor": 0,
  "metadata": {
    "kernelspec": {
      "display_name": "Python 3",
      "language": "python",
      "name": "python3"
    },
    "language_info": {
      "codemirror_mode": {
        "name": "ipython",
        "version": 3
      },
      "file_extension": ".py",
      "mimetype": "text/x-python",
      "name": "python",
      "nbconvert_exporter": "python",
      "pygments_lexer": "ipython3",
      "version": "3.7.4"
    },
    "colab": {
      "name": "hotel bookings analysis",
      "provenance": [],
      "include_colab_link": true
    }
  },
  "cells": [
    {
      "cell_type": "markdown",
      "metadata": {
        "id": "view-in-github",
        "colab_type": "text"
      },
      "source": [
        "<a href=\"https://colab.research.google.com/github/GeorgeKMaina/hotel-bookings-analysis/blob/main/hotel_bookings_analysis.ipynb\" target=\"_parent\"><img src=\"https://colab.research.google.com/assets/colab-badge.svg\" alt=\"Open In Colab\"/></a>"
      ]
    },
    {
      "cell_type": "markdown",
      "metadata": {
        "id": "pjIPDvGnz0Jy"
      },
      "source": [
        "# Introduction to Python Data Cleaning"
      ]
    },
    {
      "cell_type": "markdown",
      "metadata": {
        "id": "4NpUc11Cz0J3"
      },
      "source": [
        "Why is data cleaning important?\n",
        "- The quality of your dataset determines the quality of your model \n",
        "- Garbage In Garbage Out (GIGO)\n",
        "- Data cleaning helps to improve the quality and integrity of our data"
      ]
    },
    {
      "cell_type": "markdown",
      "metadata": {
        "id": "eV0sad4Oz0J4"
      },
      "source": [
        "Data Cleaning involves the following:\n",
        "1. Checking data validity (dropping rows unnecessary rows,rename column names..)\n",
        "2. Checking for consistencies in the data (invloves looking for duplicated columns)\n",
        "3. Checking for data accuracy ( how accurate is the data)\n",
        "4. Checking for completeness (invloves looking for columns with missing values,imputing missing values,)\n",
        "5. Uniformity of the dataset (renaming column names in uniform naming conventions, removing whitespaces,data type convertion)"
      ]
    },
    {
      "cell_type": "code",
      "metadata": {
        "id": "Oj4uakFXz0J5"
      },
      "source": [
        "#importing python libraries\n",
        "import pandas as pd\n",
        "import numpy as np\n",
        "import datetime\n",
        "import matplotlib.pyplot as plt"
      ],
      "execution_count": null,
      "outputs": []
    },
    {
      "cell_type": "code",
      "metadata": {
        "id": "qO97ukbOz0J6",
        "outputId": "75021f81-4fbe-4642-af87-13eda7e9ac6d"
      },
      "source": [
        "#loading the dataset\n",
        "hotelbookings=pd.read_csv(r'C:\\Users\\carol\\Documents\\hotel_bookings.csv')\n",
        "\n",
        "#create a copy of the dataset\n",
        "hotelbooking=hotelbookings.copy()\n",
        "#looking at the the first three rows of the data\n",
        "hotelbookings.head(3)"
      ],
      "execution_count": null,
      "outputs": [
        {
          "output_type": "execute_result",
          "data": {
            "text/html": [
              "<div>\n",
              "<style scoped>\n",
              "    .dataframe tbody tr th:only-of-type {\n",
              "        vertical-align: middle;\n",
              "    }\n",
              "\n",
              "    .dataframe tbody tr th {\n",
              "        vertical-align: top;\n",
              "    }\n",
              "\n",
              "    .dataframe thead th {\n",
              "        text-align: right;\n",
              "    }\n",
              "</style>\n",
              "<table border=\"1\" class=\"dataframe\">\n",
              "  <thead>\n",
              "    <tr style=\"text-align: right;\">\n",
              "      <th></th>\n",
              "      <th>hotel</th>\n",
              "      <th>is_canceled</th>\n",
              "      <th>lead_time</th>\n",
              "      <th>arrival_date_year</th>\n",
              "      <th>arrival_date_month</th>\n",
              "      <th>arrival_date_week_number</th>\n",
              "      <th>arrival_date_day_of_month</th>\n",
              "      <th>stays_in_weekend_nights</th>\n",
              "      <th>stays_in_week_nights</th>\n",
              "      <th>adults</th>\n",
              "      <th>...</th>\n",
              "      <th>deposit_type</th>\n",
              "      <th>agent</th>\n",
              "      <th>company</th>\n",
              "      <th>days_in_waiting_list</th>\n",
              "      <th>customer_type</th>\n",
              "      <th>adr</th>\n",
              "      <th>required_car_parking_spaces</th>\n",
              "      <th>total_of_special_requests</th>\n",
              "      <th>reservation_status</th>\n",
              "      <th>reservation_status_date</th>\n",
              "    </tr>\n",
              "  </thead>\n",
              "  <tbody>\n",
              "    <tr>\n",
              "      <td>0</td>\n",
              "      <td>Resort Hotel</td>\n",
              "      <td>0</td>\n",
              "      <td>342</td>\n",
              "      <td>2015</td>\n",
              "      <td>July</td>\n",
              "      <td>27</td>\n",
              "      <td>1</td>\n",
              "      <td>0</td>\n",
              "      <td>0</td>\n",
              "      <td>2</td>\n",
              "      <td>...</td>\n",
              "      <td>No Deposit</td>\n",
              "      <td>NaN</td>\n",
              "      <td>NaN</td>\n",
              "      <td>0</td>\n",
              "      <td>Transient</td>\n",
              "      <td>0.0</td>\n",
              "      <td>0</td>\n",
              "      <td>0</td>\n",
              "      <td>Check-Out</td>\n",
              "      <td>2015-07-01</td>\n",
              "    </tr>\n",
              "    <tr>\n",
              "      <td>1</td>\n",
              "      <td>Resort Hotel</td>\n",
              "      <td>0</td>\n",
              "      <td>737</td>\n",
              "      <td>2015</td>\n",
              "      <td>July</td>\n",
              "      <td>27</td>\n",
              "      <td>1</td>\n",
              "      <td>0</td>\n",
              "      <td>0</td>\n",
              "      <td>2</td>\n",
              "      <td>...</td>\n",
              "      <td>No Deposit</td>\n",
              "      <td>NaN</td>\n",
              "      <td>NaN</td>\n",
              "      <td>0</td>\n",
              "      <td>Transient</td>\n",
              "      <td>0.0</td>\n",
              "      <td>0</td>\n",
              "      <td>0</td>\n",
              "      <td>Check-Out</td>\n",
              "      <td>2015-07-01</td>\n",
              "    </tr>\n",
              "    <tr>\n",
              "      <td>2</td>\n",
              "      <td>Resort Hotel</td>\n",
              "      <td>0</td>\n",
              "      <td>7</td>\n",
              "      <td>2015</td>\n",
              "      <td>July</td>\n",
              "      <td>27</td>\n",
              "      <td>1</td>\n",
              "      <td>0</td>\n",
              "      <td>1</td>\n",
              "      <td>1</td>\n",
              "      <td>...</td>\n",
              "      <td>No Deposit</td>\n",
              "      <td>NaN</td>\n",
              "      <td>NaN</td>\n",
              "      <td>0</td>\n",
              "      <td>Transient</td>\n",
              "      <td>75.0</td>\n",
              "      <td>0</td>\n",
              "      <td>0</td>\n",
              "      <td>Check-Out</td>\n",
              "      <td>2015-07-02</td>\n",
              "    </tr>\n",
              "  </tbody>\n",
              "</table>\n",
              "<p>3 rows × 32 columns</p>\n",
              "</div>"
            ],
            "text/plain": [
              "          hotel  is_canceled  lead_time  arrival_date_year arrival_date_month  \\\n",
              "0  Resort Hotel            0        342               2015               July   \n",
              "1  Resort Hotel            0        737               2015               July   \n",
              "2  Resort Hotel            0          7               2015               July   \n",
              "\n",
              "   arrival_date_week_number  arrival_date_day_of_month  \\\n",
              "0                        27                          1   \n",
              "1                        27                          1   \n",
              "2                        27                          1   \n",
              "\n",
              "   stays_in_weekend_nights  stays_in_week_nights  adults  ...  deposit_type  \\\n",
              "0                        0                     0       2  ...    No Deposit   \n",
              "1                        0                     0       2  ...    No Deposit   \n",
              "2                        0                     1       1  ...    No Deposit   \n",
              "\n",
              "   agent company days_in_waiting_list customer_type   adr  \\\n",
              "0    NaN     NaN                    0     Transient   0.0   \n",
              "1    NaN     NaN                    0     Transient   0.0   \n",
              "2    NaN     NaN                    0     Transient  75.0   \n",
              "\n",
              "   required_car_parking_spaces  total_of_special_requests  reservation_status  \\\n",
              "0                            0                          0           Check-Out   \n",
              "1                            0                          0           Check-Out   \n",
              "2                            0                          0           Check-Out   \n",
              "\n",
              "  reservation_status_date  \n",
              "0              2015-07-01  \n",
              "1              2015-07-01  \n",
              "2              2015-07-02  \n",
              "\n",
              "[3 rows x 32 columns]"
            ]
          },
          "metadata": {
            "tags": []
          },
          "execution_count": 2
        }
      ]
    },
    {
      "cell_type": "code",
      "metadata": {
        "id": "509aLeH2z0J8",
        "outputId": "3cce16e1-0b86-4a68-e2ce-531352d79488"
      },
      "source": [
        "#having a look at the attributes of the data\n",
        "print('shape of the dataset: ',hotelbookings.shape)\n",
        "print('size of the daatset: ',hotelbookings.size)\n",
        "print('dimensions of the dataset: ',hotelbookings.ndim)"
      ],
      "execution_count": null,
      "outputs": [
        {
          "output_type": "stream",
          "text": [
            "shape of the dataset:  (119390, 32)\n",
            "size of the daatset:  3820480\n",
            "dimensions of the dataset:  2\n"
          ],
          "name": "stdout"
        }
      ]
    },
    {
      "cell_type": "code",
      "metadata": {
        "id": "6V26RAcJz0J9",
        "outputId": "30648457-e834-4b09-e6c0-003504373717"
      },
      "source": [
        "# lookin at the info of the data\n",
        "hotelbookings.info()"
      ],
      "execution_count": null,
      "outputs": [
        {
          "output_type": "stream",
          "text": [
            "<class 'pandas.core.frame.DataFrame'>\n",
            "RangeIndex: 119390 entries, 0 to 119389\n",
            "Data columns (total 32 columns):\n",
            "hotel                             119390 non-null object\n",
            "is_canceled                       119390 non-null int64\n",
            "lead_time                         119390 non-null int64\n",
            "arrival_date_year                 119390 non-null int64\n",
            "arrival_date_month                119390 non-null object\n",
            "arrival_date_week_number          119390 non-null int64\n",
            "arrival_date_day_of_month         119390 non-null int64\n",
            "stays_in_weekend_nights           119390 non-null int64\n",
            "stays_in_week_nights              119390 non-null int64\n",
            "adults                            119390 non-null int64\n",
            "children                          119386 non-null float64\n",
            "babies                            119390 non-null int64\n",
            "meal                              119390 non-null object\n",
            "country                           118902 non-null object\n",
            "market_segment                    119390 non-null object\n",
            "distribution_channel              119390 non-null object\n",
            "is_repeated_guest                 119390 non-null int64\n",
            "previous_cancellations            119390 non-null int64\n",
            "previous_bookings_not_canceled    119390 non-null int64\n",
            "reserved_room_type                119390 non-null object\n",
            "assigned_room_type                119390 non-null object\n",
            "booking_changes                   119390 non-null int64\n",
            "deposit_type                      119390 non-null object\n",
            "agent                             103050 non-null float64\n",
            "company                           6797 non-null float64\n",
            "days_in_waiting_list              119390 non-null int64\n",
            "customer_type                     119390 non-null object\n",
            "adr                               119390 non-null float64\n",
            "required_car_parking_spaces       119390 non-null int64\n",
            "total_of_special_requests         119390 non-null int64\n",
            "reservation_status                119390 non-null object\n",
            "reservation_status_date           119390 non-null object\n",
            "dtypes: float64(4), int64(16), object(12)\n",
            "memory usage: 29.1+ MB\n"
          ],
          "name": "stdout"
        }
      ]
    },
    {
      "cell_type": "markdown",
      "metadata": {
        "id": "vTks4Y0vz0J-"
      },
      "source": [
        "### Data Cleaning"
      ]
    },
    {
      "cell_type": "markdown",
      "metadata": {
        "id": "8w5J3W_Oz0J-"
      },
      "source": [
        "###### 1. Consistency"
      ]
    },
    {
      "cell_type": "code",
      "metadata": {
        "id": "L_J6FmFdz0J_",
        "outputId": "a00698bc-3b52-4357-84f4-9aeca53ba039"
      },
      "source": [
        "print('number of duplicate rows: ',hotelbookings.duplicated().sum())\n",
        "print('shape of the original dataset: ',hotelbookings.shape)\n",
        "print('shape of the dataset after droping duplicate rows: ', hotelbookings.drop_duplicates().shape)"
      ],
      "execution_count": null,
      "outputs": [
        {
          "output_type": "stream",
          "text": [
            "number of duplicate rows:  31994\n",
            "shape of the original dataset:  (119390, 32)\n",
            "shape of the dataset after droping duplicate rows:  (87396, 32)\n"
          ],
          "name": "stdout"
        }
      ]
    },
    {
      "cell_type": "markdown",
      "metadata": {
        "id": "7JjxvNrez0KA"
      },
      "source": [
        "###### 2. Completeness"
      ]
    },
    {
      "cell_type": "code",
      "metadata": {
        "id": "UWveIDEIz0KA",
        "outputId": "8559a779-3a17-4048-dd4a-3edee6a770d0"
      },
      "source": [
        "#we will look for columns with missing values\n",
        "missing=hotelbookings.isna().sum()\n",
        "missing=missing[missing!=0]\n",
        "print('number of columns with missing values: ', len(missing))\n",
        "\n",
        "# percentage of missing values in the columns\n",
        "perc=missing/len(hotelbookings)*100\n",
        "missing_perc=pd.concat([missing,perc],axis=1)\n",
        "missing_perc.rename(columns={0:'number of missing values in the column',1:'percentage of missing values in the column'},inplace=True)\n",
        "missing_perc.sort_values(by='percentage of missing values in the column',ascending=False)"
      ],
      "execution_count": null,
      "outputs": [
        {
          "output_type": "stream",
          "text": [
            "number of columns with missing values:  4\n"
          ],
          "name": "stdout"
        },
        {
          "output_type": "execute_result",
          "data": {
            "text/html": [
              "<div>\n",
              "<style scoped>\n",
              "    .dataframe tbody tr th:only-of-type {\n",
              "        vertical-align: middle;\n",
              "    }\n",
              "\n",
              "    .dataframe tbody tr th {\n",
              "        vertical-align: top;\n",
              "    }\n",
              "\n",
              "    .dataframe thead th {\n",
              "        text-align: right;\n",
              "    }\n",
              "</style>\n",
              "<table border=\"1\" class=\"dataframe\">\n",
              "  <thead>\n",
              "    <tr style=\"text-align: right;\">\n",
              "      <th></th>\n",
              "      <th>number of missing values in the column</th>\n",
              "      <th>percentage of missing values in the column</th>\n",
              "    </tr>\n",
              "  </thead>\n",
              "  <tbody>\n",
              "    <tr>\n",
              "      <td>company</td>\n",
              "      <td>112593</td>\n",
              "      <td>94.306893</td>\n",
              "    </tr>\n",
              "    <tr>\n",
              "      <td>agent</td>\n",
              "      <td>16340</td>\n",
              "      <td>13.686238</td>\n",
              "    </tr>\n",
              "    <tr>\n",
              "      <td>country</td>\n",
              "      <td>488</td>\n",
              "      <td>0.408744</td>\n",
              "    </tr>\n",
              "    <tr>\n",
              "      <td>children</td>\n",
              "      <td>4</td>\n",
              "      <td>0.003350</td>\n",
              "    </tr>\n",
              "  </tbody>\n",
              "</table>\n",
              "</div>"
            ],
            "text/plain": [
              "          number of missing values in the column  \\\n",
              "company                                   112593   \n",
              "agent                                      16340   \n",
              "country                                      488   \n",
              "children                                       4   \n",
              "\n",
              "          percentage of missing values in the column  \n",
              "company                                    94.306893  \n",
              "agent                                      13.686238  \n",
              "country                                     0.408744  \n",
              "children                                    0.003350  "
            ]
          },
          "metadata": {
            "tags": []
          },
          "execution_count": 6
        }
      ]
    },
    {
      "cell_type": "markdown",
      "metadata": {
        "id": "7jEWCR7mz0KB"
      },
      "source": [
        "imputations of columns with missing values"
      ]
    },
    {
      "cell_type": "code",
      "metadata": {
        "id": "7nIaLCs1z0KC",
        "outputId": "0be2c76e-4211-4b43-d931-34cac4aa73f0"
      },
      "source": [
        "#we will drop the columns company because they have a lot of missing values\n",
        "hotelbookings.drop(['company'],axis=1,inplace=True)\n",
        "\n",
        "#to confirm if the column was drooped\n",
        "hotelbookings.columns"
      ],
      "execution_count": null,
      "outputs": [
        {
          "output_type": "execute_result",
          "data": {
            "text/plain": [
              "Index(['hotel', 'is_canceled', 'lead_time', 'arrival_date_year',\n",
              "       'arrival_date_month', 'arrival_date_week_number',\n",
              "       'arrival_date_day_of_month', 'stays_in_weekend_nights',\n",
              "       'stays_in_week_nights', 'adults', 'children', 'babies', 'meal',\n",
              "       'country', 'market_segment', 'distribution_channel',\n",
              "       'is_repeated_guest', 'previous_cancellations',\n",
              "       'previous_bookings_not_canceled', 'reserved_room_type',\n",
              "       'assigned_room_type', 'booking_changes', 'deposit_type', 'agent',\n",
              "       'days_in_waiting_list', 'customer_type', 'adr',\n",
              "       'required_car_parking_spaces', 'total_of_special_requests',\n",
              "       'reservation_status', 'reservation_status_date'],\n",
              "      dtype='object')"
            ]
          },
          "metadata": {
            "tags": []
          },
          "execution_count": 7
        }
      ]
    },
    {
      "cell_type": "code",
      "metadata": {
        "id": "WDY_A4VIz0KD"
      },
      "source": [
        "# for the column country, we will fill the missing values with those of the most repeated country in that column\n",
        "from scipy.stats import mode\n",
        "hotelbookings['country'].fillna(mode(hotelbookings['country']).mode[0],inplace=True)\n",
        "#for the column agent,we will fill it using bboth backward and forward fill\n",
        "hotelbookings['agent'].fillna(method='bfill',inplace=True)\n",
        "#for the column children, we will fill the missing values with the mean of that column\n",
        "hotelbookings['children'].fillna(np.mean(hotelbookings['children']),inplace=True)"
      ],
      "execution_count": null,
      "outputs": []
    },
    {
      "cell_type": "code",
      "metadata": {
        "id": "m4pXI7N3z0KD",
        "outputId": "73692817-91b1-4175-f227-38cc95e468cd"
      },
      "source": [
        "# to confirm if we have dropped and filled the misising values\n",
        "hotelbookings.isna().sum()"
      ],
      "execution_count": null,
      "outputs": [
        {
          "output_type": "execute_result",
          "data": {
            "text/plain": [
              "hotel                             0\n",
              "is_canceled                       0\n",
              "lead_time                         0\n",
              "arrival_date_year                 0\n",
              "arrival_date_month                0\n",
              "arrival_date_week_number          0\n",
              "arrival_date_day_of_month         0\n",
              "stays_in_weekend_nights           0\n",
              "stays_in_week_nights              0\n",
              "adults                            0\n",
              "children                          0\n",
              "babies                            0\n",
              "meal                              0\n",
              "country                           0\n",
              "market_segment                    0\n",
              "distribution_channel              0\n",
              "is_repeated_guest                 0\n",
              "previous_cancellations            0\n",
              "previous_bookings_not_canceled    0\n",
              "reserved_room_type                0\n",
              "assigned_room_type                0\n",
              "booking_changes                   0\n",
              "deposit_type                      0\n",
              "agent                             0\n",
              "days_in_waiting_list              0\n",
              "customer_type                     0\n",
              "adr                               0\n",
              "required_car_parking_spaces       0\n",
              "total_of_special_requests         0\n",
              "reservation_status                0\n",
              "reservation_status_date           0\n",
              "dtype: int64"
            ]
          },
          "metadata": {
            "tags": []
          },
          "execution_count": 9
        }
      ]
    },
    {
      "cell_type": "markdown",
      "metadata": {
        "id": "8lCKmsVwz0KE"
      },
      "source": [
        "###### 3. Uniformity and Validity"
      ]
    },
    {
      "cell_type": "code",
      "metadata": {
        "id": "Jkkc30NXz0KE",
        "outputId": "db043737-29fe-4068-bdc4-fd9abb2e3927"
      },
      "source": [
        "#removing whitespaces if there are any\n",
        "hotelbookings.columns.str.strip()"
      ],
      "execution_count": null,
      "outputs": [
        {
          "output_type": "execute_result",
          "data": {
            "text/plain": [
              "Index(['hotel', 'is_canceled', 'lead_time', 'arrival_date_year',\n",
              "       'arrival_date_month', 'arrival_date_week_number',\n",
              "       'arrival_date_day_of_month', 'stays_in_weekend_nights',\n",
              "       'stays_in_week_nights', 'adults', 'children', 'babies', 'meal',\n",
              "       'country', 'market_segment', 'distribution_channel',\n",
              "       'is_repeated_guest', 'previous_cancellations',\n",
              "       'previous_bookings_not_canceled', 'reserved_room_type',\n",
              "       'assigned_room_type', 'booking_changes', 'deposit_type', 'agent',\n",
              "       'days_in_waiting_list', 'customer_type', 'adr',\n",
              "       'required_car_parking_spaces', 'total_of_special_requests',\n",
              "       'reservation_status', 'reservation_status_date'],\n",
              "      dtype='object')"
            ]
          },
          "metadata": {
            "tags": []
          },
          "execution_count": 10
        }
      ]
    },
    {
      "cell_type": "code",
      "metadata": {
        "id": "zYfMPhmUz0KF"
      },
      "source": [
        "#renaming the column adr to price \n",
        "hotelbookings.rename(columns={'adr':'price'},inplace=True)"
      ],
      "execution_count": null,
      "outputs": []
    },
    {
      "cell_type": "code",
      "metadata": {
        "id": "_PB7fZqSz0KG"
      },
      "source": [
        "# there are two columns babies and children\n",
        "# we will create a new column and impute it with the sum of babies and children\n",
        "hotelbookings['kids']=hotelbookings['babies']+ hotelbookings['children']\n",
        "#creating a new column total visitors\n",
        "#will be the sum of visitors\n",
        "hotelbookings['total_visitors']=hotelbookings['adults']+ hotelbookings['kids']\n",
        "#we will then drop the columns babies and children from our dataset\n",
        "hotelbookings.drop(['children','babies'],axis=1,inplace=True)"
      ],
      "execution_count": null,
      "outputs": []
    },
    {
      "cell_type": "code",
      "metadata": {
        "id": "eo0XxDhYz0KG",
        "outputId": "d51c6cf3-ad61-4cb4-b66c-1d257efe4d5a"
      },
      "source": [
        "hotelbookings['price'].describe()\n",
        "\n",
        "#we cant have a negative price\n",
        "#we will delete the rows with the negative values\n",
        "hotelbooking.loc[hotelbookings['price']<0]\n",
        "\n",
        "#we can see that only one row had a negative price\n",
        "#which is row 14969"
      ],
      "execution_count": null,
      "outputs": [
        {
          "output_type": "execute_result",
          "data": {
            "text/html": [
              "<div>\n",
              "<style scoped>\n",
              "    .dataframe tbody tr th:only-of-type {\n",
              "        vertical-align: middle;\n",
              "    }\n",
              "\n",
              "    .dataframe tbody tr th {\n",
              "        vertical-align: top;\n",
              "    }\n",
              "\n",
              "    .dataframe thead th {\n",
              "        text-align: right;\n",
              "    }\n",
              "</style>\n",
              "<table border=\"1\" class=\"dataframe\">\n",
              "  <thead>\n",
              "    <tr style=\"text-align: right;\">\n",
              "      <th></th>\n",
              "      <th>hotel</th>\n",
              "      <th>is_canceled</th>\n",
              "      <th>lead_time</th>\n",
              "      <th>arrival_date_year</th>\n",
              "      <th>arrival_date_month</th>\n",
              "      <th>arrival_date_week_number</th>\n",
              "      <th>arrival_date_day_of_month</th>\n",
              "      <th>stays_in_weekend_nights</th>\n",
              "      <th>stays_in_week_nights</th>\n",
              "      <th>adults</th>\n",
              "      <th>...</th>\n",
              "      <th>deposit_type</th>\n",
              "      <th>agent</th>\n",
              "      <th>company</th>\n",
              "      <th>days_in_waiting_list</th>\n",
              "      <th>customer_type</th>\n",
              "      <th>adr</th>\n",
              "      <th>required_car_parking_spaces</th>\n",
              "      <th>total_of_special_requests</th>\n",
              "      <th>reservation_status</th>\n",
              "      <th>reservation_status_date</th>\n",
              "    </tr>\n",
              "  </thead>\n",
              "  <tbody>\n",
              "    <tr>\n",
              "      <td>14969</td>\n",
              "      <td>Resort Hotel</td>\n",
              "      <td>0</td>\n",
              "      <td>195</td>\n",
              "      <td>2017</td>\n",
              "      <td>March</td>\n",
              "      <td>10</td>\n",
              "      <td>5</td>\n",
              "      <td>4</td>\n",
              "      <td>6</td>\n",
              "      <td>2</td>\n",
              "      <td>...</td>\n",
              "      <td>No Deposit</td>\n",
              "      <td>273.0</td>\n",
              "      <td>NaN</td>\n",
              "      <td>0</td>\n",
              "      <td>Transient-Party</td>\n",
              "      <td>-6.38</td>\n",
              "      <td>0</td>\n",
              "      <td>0</td>\n",
              "      <td>Check-Out</td>\n",
              "      <td>2017-03-15</td>\n",
              "    </tr>\n",
              "  </tbody>\n",
              "</table>\n",
              "<p>1 rows × 32 columns</p>\n",
              "</div>"
            ],
            "text/plain": [
              "              hotel  is_canceled  lead_time  arrival_date_year  \\\n",
              "14969  Resort Hotel            0        195               2017   \n",
              "\n",
              "      arrival_date_month  arrival_date_week_number  arrival_date_day_of_month  \\\n",
              "14969              March                        10                          5   \n",
              "\n",
              "       stays_in_weekend_nights  stays_in_week_nights  adults  ...  \\\n",
              "14969                        4                     6       2  ...   \n",
              "\n",
              "       deposit_type  agent company days_in_waiting_list    customer_type  \\\n",
              "14969    No Deposit  273.0     NaN                    0  Transient-Party   \n",
              "\n",
              "        adr  required_car_parking_spaces  total_of_special_requests  \\\n",
              "14969 -6.38                            0                          0   \n",
              "\n",
              "       reservation_status reservation_status_date  \n",
              "14969           Check-Out              2017-03-15  \n",
              "\n",
              "[1 rows x 32 columns]"
            ]
          },
          "metadata": {
            "tags": []
          },
          "execution_count": 13
        }
      ]
    },
    {
      "cell_type": "code",
      "metadata": {
        "id": "2H2TdVeGz0KH",
        "outputId": "8473d22c-4fd3-43cc-c873-cd22984423ac"
      },
      "source": [
        "#identifying the outliers in the column price\n",
        "plt.figure(figsize=(6,6)) \n",
        "plt.boxplot(hotelbookings['price'])\n",
        "plt.show()\n",
        "\n",
        "#we can see that there is are outlier"
      ],
      "execution_count": null,
      "outputs": [
        {
          "output_type": "display_data",
          "data": {
            "image/png": "[encoded data removed]",
            "text/plain": [
              "<Figure size 432x432 with 1 Axes>"
            ]
          },
          "metadata": {
            "tags": [],
            "needs_background": "light"
          }
        }
      ]
    },
    {
      "cell_type": "code",
      "metadata": {
        "id": "7qH_gBZaz0KI",
        "outputId": "ccdf0506-4c0a-41ab-c065-59c514270e8d"
      },
      "source": [
        "hotelbookings.loc[hotelbookings['price']>400]"
      ],
      "execution_count": null,
      "outputs": [
        {
          "output_type": "execute_result",
          "data": {
            "text/html": [
              "<div>\n",
              "<style scoped>\n",
              "    .dataframe tbody tr th:only-of-type {\n",
              "        vertical-align: middle;\n",
              "    }\n",
              "\n",
              "    .dataframe tbody tr th {\n",
              "        vertical-align: top;\n",
              "    }\n",
              "\n",
              "    .dataframe thead th {\n",
              "        text-align: right;\n",
              "    }\n",
              "</style>\n",
              "<table border=\"1\" class=\"dataframe\">\n",
              "  <thead>\n",
              "    <tr style=\"text-align: right;\">\n",
              "      <th></th>\n",
              "      <th>hotel</th>\n",
              "      <th>is_canceled</th>\n",
              "      <th>lead_time</th>\n",
              "      <th>arrival_date_year</th>\n",
              "      <th>arrival_date_month</th>\n",
              "      <th>arrival_date_week_number</th>\n",
              "      <th>arrival_date_day_of_month</th>\n",
              "      <th>stays_in_weekend_nights</th>\n",
              "      <th>stays_in_week_nights</th>\n",
              "      <th>adults</th>\n",
              "      <th>...</th>\n",
              "      <th>agent</th>\n",
              "      <th>days_in_waiting_list</th>\n",
              "      <th>customer_type</th>\n",
              "      <th>price</th>\n",
              "      <th>required_car_parking_spaces</th>\n",
              "      <th>total_of_special_requests</th>\n",
              "      <th>reservation_status</th>\n",
              "      <th>reservation_status_date</th>\n",
              "      <th>kids</th>\n",
              "      <th>total_visitors</th>\n",
              "    </tr>\n",
              "  </thead>\n",
              "  <tbody>\n",
              "    <tr>\n",
              "      <td>13142</td>\n",
              "      <td>Resort Hotel</td>\n",
              "      <td>1</td>\n",
              "      <td>378</td>\n",
              "      <td>2017</td>\n",
              "      <td>August</td>\n",
              "      <td>31</td>\n",
              "      <td>1</td>\n",
              "      <td>4</td>\n",
              "      <td>10</td>\n",
              "      <td>2</td>\n",
              "      <td>...</td>\n",
              "      <td>314.0</td>\n",
              "      <td>0</td>\n",
              "      <td>Transient</td>\n",
              "      <td>450.00</td>\n",
              "      <td>0</td>\n",
              "      <td>0</td>\n",
              "      <td>Canceled</td>\n",
              "      <td>2016-07-22</td>\n",
              "      <td>0.0</td>\n",
              "      <td>2.0</td>\n",
              "    </tr>\n",
              "    <tr>\n",
              "      <td>13391</td>\n",
              "      <td>Resort Hotel</td>\n",
              "      <td>1</td>\n",
              "      <td>59</td>\n",
              "      <td>2017</td>\n",
              "      <td>August</td>\n",
              "      <td>33</td>\n",
              "      <td>13</td>\n",
              "      <td>2</td>\n",
              "      <td>4</td>\n",
              "      <td>2</td>\n",
              "      <td>...</td>\n",
              "      <td>250.0</td>\n",
              "      <td>0</td>\n",
              "      <td>Transient</td>\n",
              "      <td>437.00</td>\n",
              "      <td>0</td>\n",
              "      <td>0</td>\n",
              "      <td>Canceled</td>\n",
              "      <td>2017-08-03</td>\n",
              "      <td>2.0</td>\n",
              "      <td>4.0</td>\n",
              "    </tr>\n",
              "    <tr>\n",
              "      <td>15083</td>\n",
              "      <td>Resort Hotel</td>\n",
              "      <td>0</td>\n",
              "      <td>1</td>\n",
              "      <td>2015</td>\n",
              "      <td>July</td>\n",
              "      <td>29</td>\n",
              "      <td>15</td>\n",
              "      <td>0</td>\n",
              "      <td>1</td>\n",
              "      <td>2</td>\n",
              "      <td>...</td>\n",
              "      <td>6.0</td>\n",
              "      <td>0</td>\n",
              "      <td>Transient</td>\n",
              "      <td>508.00</td>\n",
              "      <td>1</td>\n",
              "      <td>0</td>\n",
              "      <td>Check-Out</td>\n",
              "      <td>2015-07-16</td>\n",
              "      <td>0.0</td>\n",
              "      <td>2.0</td>\n",
              "    </tr>\n",
              "    <tr>\n",
              "      <td>39155</td>\n",
              "      <td>Resort Hotel</td>\n",
              "      <td>0</td>\n",
              "      <td>31</td>\n",
              "      <td>2017</td>\n",
              "      <td>August</td>\n",
              "      <td>31</td>\n",
              "      <td>1</td>\n",
              "      <td>2</td>\n",
              "      <td>6</td>\n",
              "      <td>2</td>\n",
              "      <td>...</td>\n",
              "      <td>250.0</td>\n",
              "      <td>0</td>\n",
              "      <td>Transient</td>\n",
              "      <td>426.25</td>\n",
              "      <td>0</td>\n",
              "      <td>2</td>\n",
              "      <td>Check-Out</td>\n",
              "      <td>2017-08-09</td>\n",
              "      <td>2.0</td>\n",
              "      <td>4.0</td>\n",
              "    </tr>\n",
              "    <tr>\n",
              "      <td>39568</td>\n",
              "      <td>Resort Hotel</td>\n",
              "      <td>0</td>\n",
              "      <td>104</td>\n",
              "      <td>2017</td>\n",
              "      <td>August</td>\n",
              "      <td>33</td>\n",
              "      <td>17</td>\n",
              "      <td>2</td>\n",
              "      <td>3</td>\n",
              "      <td>3</td>\n",
              "      <td>...</td>\n",
              "      <td>240.0</td>\n",
              "      <td>0</td>\n",
              "      <td>Transient</td>\n",
              "      <td>402.00</td>\n",
              "      <td>0</td>\n",
              "      <td>1</td>\n",
              "      <td>Check-Out</td>\n",
              "      <td>2017-08-22</td>\n",
              "      <td>1.0</td>\n",
              "      <td>4.0</td>\n",
              "    </tr>\n",
              "    <tr>\n",
              "      <td>48515</td>\n",
              "      <td>City Hotel</td>\n",
              "      <td>1</td>\n",
              "      <td>35</td>\n",
              "      <td>2016</td>\n",
              "      <td>March</td>\n",
              "      <td>13</td>\n",
              "      <td>25</td>\n",
              "      <td>0</td>\n",
              "      <td>1</td>\n",
              "      <td>2</td>\n",
              "      <td>...</td>\n",
              "      <td>12.0</td>\n",
              "      <td>0</td>\n",
              "      <td>Transient</td>\n",
              "      <td>5400.00</td>\n",
              "      <td>0</td>\n",
              "      <td>0</td>\n",
              "      <td>Canceled</td>\n",
              "      <td>2016-02-19</td>\n",
              "      <td>0.0</td>\n",
              "      <td>2.0</td>\n",
              "    </tr>\n",
              "    <tr>\n",
              "      <td>103912</td>\n",
              "      <td>City Hotel</td>\n",
              "      <td>0</td>\n",
              "      <td>81</td>\n",
              "      <td>2016</td>\n",
              "      <td>December</td>\n",
              "      <td>53</td>\n",
              "      <td>31</td>\n",
              "      <td>1</td>\n",
              "      <td>1</td>\n",
              "      <td>2</td>\n",
              "      <td>...</td>\n",
              "      <td>9.0</td>\n",
              "      <td>0</td>\n",
              "      <td>Transient-Party</td>\n",
              "      <td>451.50</td>\n",
              "      <td>0</td>\n",
              "      <td>4</td>\n",
              "      <td>Check-Out</td>\n",
              "      <td>2017-01-02</td>\n",
              "      <td>2.0</td>\n",
              "      <td>4.0</td>\n",
              "    </tr>\n",
              "    <tr>\n",
              "      <td>111403</td>\n",
              "      <td>City Hotel</td>\n",
              "      <td>0</td>\n",
              "      <td>0</td>\n",
              "      <td>2017</td>\n",
              "      <td>May</td>\n",
              "      <td>19</td>\n",
              "      <td>9</td>\n",
              "      <td>0</td>\n",
              "      <td>1</td>\n",
              "      <td>1</td>\n",
              "      <td>...</td>\n",
              "      <td>159.0</td>\n",
              "      <td>0</td>\n",
              "      <td>Transient</td>\n",
              "      <td>510.00</td>\n",
              "      <td>0</td>\n",
              "      <td>0</td>\n",
              "      <td>Check-Out</td>\n",
              "      <td>2017-05-10</td>\n",
              "      <td>0.0</td>\n",
              "      <td>1.0</td>\n",
              "    </tr>\n",
              "  </tbody>\n",
              "</table>\n",
              "<p>8 rows × 31 columns</p>\n",
              "</div>"
            ],
            "text/plain": [
              "               hotel  is_canceled  lead_time  arrival_date_year  \\\n",
              "13142   Resort Hotel            1        378               2017   \n",
              "13391   Resort Hotel            1         59               2017   \n",
              "15083   Resort Hotel            0          1               2015   \n",
              "39155   Resort Hotel            0         31               2017   \n",
              "39568   Resort Hotel            0        104               2017   \n",
              "48515     City Hotel            1         35               2016   \n",
              "103912    City Hotel            0         81               2016   \n",
              "111403    City Hotel            0          0               2017   \n",
              "\n",
              "       arrival_date_month  arrival_date_week_number  \\\n",
              "13142              August                        31   \n",
              "13391              August                        33   \n",
              "15083                July                        29   \n",
              "39155              August                        31   \n",
              "39568              August                        33   \n",
              "48515               March                        13   \n",
              "103912           December                        53   \n",
              "111403                May                        19   \n",
              "\n",
              "        arrival_date_day_of_month  stays_in_weekend_nights  \\\n",
              "13142                           1                        4   \n",
              "13391                          13                        2   \n",
              "15083                          15                        0   \n",
              "39155                           1                        2   \n",
              "39568                          17                        2   \n",
              "48515                          25                        0   \n",
              "103912                         31                        1   \n",
              "111403                          9                        0   \n",
              "\n",
              "        stays_in_week_nights  adults  ...  agent days_in_waiting_list  \\\n",
              "13142                     10       2  ...  314.0                    0   \n",
              "13391                      4       2  ...  250.0                    0   \n",
              "15083                      1       2  ...    6.0                    0   \n",
              "39155                      6       2  ...  250.0                    0   \n",
              "39568                      3       3  ...  240.0                    0   \n",
              "48515                      1       2  ...   12.0                    0   \n",
              "103912                     1       2  ...    9.0                    0   \n",
              "111403                     1       1  ...  159.0                    0   \n",
              "\n",
              "          customer_type    price  required_car_parking_spaces  \\\n",
              "13142         Transient   450.00                            0   \n",
              "13391         Transient   437.00                            0   \n",
              "15083         Transient   508.00                            1   \n",
              "39155         Transient   426.25                            0   \n",
              "39568         Transient   402.00                            0   \n",
              "48515         Transient  5400.00                            0   \n",
              "103912  Transient-Party   451.50                            0   \n",
              "111403        Transient   510.00                            0   \n",
              "\n",
              "        total_of_special_requests  reservation_status reservation_status_date  \\\n",
              "13142                           0            Canceled              2016-07-22   \n",
              "13391                           0            Canceled              2017-08-03   \n",
              "15083                           0           Check-Out              2015-07-16   \n",
              "39155                           2           Check-Out              2017-08-09   \n",
              "39568                           1           Check-Out              2017-08-22   \n",
              "48515                           0            Canceled              2016-02-19   \n",
              "103912                          4           Check-Out              2017-01-02   \n",
              "111403                          0           Check-Out              2017-05-10   \n",
              "\n",
              "       kids  total_visitors  \n",
              "13142   0.0             2.0  \n",
              "13391   2.0             4.0  \n",
              "15083   0.0             2.0  \n",
              "39155   2.0             4.0  \n",
              "39568   1.0             4.0  \n",
              "48515   0.0             2.0  \n",
              "103912  2.0             4.0  \n",
              "111403  0.0             1.0  \n",
              "\n",
              "[8 rows x 31 columns]"
            ]
          },
          "metadata": {
            "tags": []
          },
          "execution_count": 15
        }
      ]
    },
    {
      "cell_type": "code",
      "metadata": {
        "id": "dbWeDQo8z0KI"
      },
      "source": [
        "#dropping by the row index\n",
        "hotelbookings.drop([13142,13391,15083,39155,39568,48515,103912,111403,14969],inplace=True)\n"
      ],
      "execution_count": null,
      "outputs": []
    },
    {
      "cell_type": "code",
      "metadata": {
        "id": "llsVEqcPz0KJ",
        "outputId": "cd8033e2-a99b-4971-f360-97225babc0ff"
      },
      "source": [
        "hotelbookings['reservation_status'].unique()"
      ],
      "execution_count": null,
      "outputs": [
        {
          "output_type": "execute_result",
          "data": {
            "text/plain": [
              "array(['Check-Out', 'Canceled', 'No-Show'], dtype=object)"
            ]
          },
          "metadata": {
            "tags": []
          },
          "execution_count": 17
        }
      ]
    },
    {
      "cell_type": "code",
      "metadata": {
        "id": "E3nbtBTZz0KJ",
        "outputId": "1e88706c-7074-4013-9a13-3ee3a422ae54"
      },
      "source": [
        "# we can split the dataset into two\n",
        "#to have clients who did not cancel their bookings and those that cancelled their bookings\n",
        "notcancel=hotelbookings[hotelbookings['is_canceled']==0]\n",
        "cancelled=hotelbookings[hotelbookings['is_canceled']==0]\n",
        "\n",
        "#to ensure if the total visitors at any hotel are greater than 0\n",
        "showed_up=notcancel.loc[(notcancel['total_visitors']>0)]\n",
        "print('did not cancel: ',notcancel.shape)\n",
        "print('did not cancel and did showed up:',showed_up.shape )\n",
        "\n",
        "# this confirms that there a 155 records where the booking was not cancelled and the clients did not show up"
      ],
      "execution_count": null,
      "outputs": [
        {
          "output_type": "stream",
          "text": [
            "did not cancel:  (75160, 31)\n",
            "did not cancel and did showed up: (75005, 31)\n"
          ],
          "name": "stdout"
        }
      ]
    },
    {
      "cell_type": "markdown",
      "metadata": {
        "id": "vk7axF9nz0KK"
      },
      "source": [
        "### Data Analysis"
      ]
    },
    {
      "cell_type": "markdown",
      "metadata": {
        "id": "q53tFfTrz0KL"
      },
      "source": [
        "###### Questions we will be seeking to answer"
      ]
    },
    {
      "cell_type": "markdown",
      "metadata": {
        "id": "jU0SuA9Rz0KL"
      },
      "source": [
        "- which country were most visitors from\n",
        "- which hotel had the most visitors\n",
        "- which hotel did outsiders visit more\n",
        "- which months,years were the most busiest\n",
        "- which hotel did had the most kids\n",
        "- do foreign visitors pay different amounts from the local visitors\n",
        "- which month of the year do most people visit the hotels?\n",
        "- which month of the year are there more foreign visitors?\n",
        "- on average, which month was the cheapest to travel"
      ]
    },
    {
      "cell_type": "markdown",
      "metadata": {
        "id": "xYB1JvkWz0KM"
      },
      "source": [
        "1. which country were most visitors from"
      ]
    },
    {
      "cell_type": "code",
      "metadata": {
        "id": "gE7YdCeFz0KN",
        "outputId": "99a9fdca-76cd-4bd9-e863-5e39b7aeffd9"
      },
      "source": [
        "visitorcountry=pd.pivot_table(showed_up, values=['total_visitors','kids','adults'],index=['country'],aggfunc=np.sum)\n",
        "visitorcountry.sort_values(by='total_visitors', ascending=False).head(5)\n",
        "\n",
        "#we can see that most visitors that showed up were from portugal\n",
        "#this can imply that most visitors to this hotels were local citizen\n",
        "# we can thus infer that the hotels were in Portugal"
      ],
      "execution_count": null,
      "outputs": [
        {
          "output_type": "execute_result",
          "data": {
            "text/html": [
              "<div>\n",
              "<style scoped>\n",
              "    .dataframe tbody tr th:only-of-type {\n",
              "        vertical-align: middle;\n",
              "    }\n",
              "\n",
              "    .dataframe tbody tr th {\n",
              "        vertical-align: top;\n",
              "    }\n",
              "\n",
              "    .dataframe thead th {\n",
              "        text-align: right;\n",
              "    }\n",
              "</style>\n",
              "<table border=\"1\" class=\"dataframe\">\n",
              "  <thead>\n",
              "    <tr style=\"text-align: right;\">\n",
              "      <th></th>\n",
              "      <th>adults</th>\n",
              "      <th>kids</th>\n",
              "      <th>total_visitors</th>\n",
              "    </tr>\n",
              "    <tr>\n",
              "      <th>country</th>\n",
              "      <th></th>\n",
              "      <th></th>\n",
              "      <th></th>\n",
              "    </tr>\n",
              "  </thead>\n",
              "  <tbody>\n",
              "    <tr>\n",
              "      <td>PRT</td>\n",
              "      <td>35906</td>\n",
              "      <td>2340.0</td>\n",
              "      <td>38246.0</td>\n",
              "    </tr>\n",
              "    <tr>\n",
              "      <td>GBR</td>\n",
              "      <td>18378</td>\n",
              "      <td>878.0</td>\n",
              "      <td>19256.0</td>\n",
              "    </tr>\n",
              "    <tr>\n",
              "      <td>FRA</td>\n",
              "      <td>16353</td>\n",
              "      <td>946.0</td>\n",
              "      <td>17299.0</td>\n",
              "    </tr>\n",
              "    <tr>\n",
              "      <td>ESP</td>\n",
              "      <td>12196</td>\n",
              "      <td>1013.0</td>\n",
              "      <td>13209.0</td>\n",
              "    </tr>\n",
              "    <tr>\n",
              "      <td>DEU</td>\n",
              "      <td>11297</td>\n",
              "      <td>362.0</td>\n",
              "      <td>11659.0</td>\n",
              "    </tr>\n",
              "  </tbody>\n",
              "</table>\n",
              "</div>"
            ],
            "text/plain": [
              "         adults    kids  total_visitors\n",
              "country                                \n",
              "PRT       35906  2340.0         38246.0\n",
              "GBR       18378   878.0         19256.0\n",
              "FRA       16353   946.0         17299.0\n",
              "ESP       12196  1013.0         13209.0\n",
              "DEU       11297   362.0         11659.0"
            ]
          },
          "metadata": {
            "tags": []
          },
          "execution_count": 19
        }
      ]
    },
    {
      "cell_type": "markdown",
      "metadata": {
        "id": "AfUvjFN5z0KN"
      },
      "source": [
        "2. which hotel had the most visitors"
      ]
    },
    {
      "cell_type": "code",
      "metadata": {
        "id": "Tq04dbK1z0KO",
        "outputId": "eac72642-e7fc-4e30-a0d0-ea373d055dde"
      },
      "source": [
        "hotel_visitors=pd.pivot_table(showed_up,values=['total_visitors','kids','adults'],index=['hotel'],aggfunc=np.sum)\n",
        "hotel_visitors.sort_values(by='total_visitors',ascending=False)\n",
        "\n",
        "#most visitors that showed up, visited the city hotel"
      ],
      "execution_count": null,
      "outputs": [
        {
          "output_type": "execute_result",
          "data": {
            "text/html": [
              "<div>\n",
              "<style scoped>\n",
              "    .dataframe tbody tr th:only-of-type {\n",
              "        vertical-align: middle;\n",
              "    }\n",
              "\n",
              "    .dataframe tbody tr th {\n",
              "        vertical-align: top;\n",
              "    }\n",
              "\n",
              "    .dataframe thead th {\n",
              "        text-align: right;\n",
              "    }\n",
              "</style>\n",
              "<table border=\"1\" class=\"dataframe\">\n",
              "  <thead>\n",
              "    <tr style=\"text-align: right;\">\n",
              "      <th></th>\n",
              "      <th>adults</th>\n",
              "      <th>kids</th>\n",
              "      <th>total_visitors</th>\n",
              "    </tr>\n",
              "    <tr>\n",
              "      <th>hotel</th>\n",
              "      <th></th>\n",
              "      <th></th>\n",
              "      <th></th>\n",
              "    </tr>\n",
              "  </thead>\n",
              "  <tbody>\n",
              "    <tr>\n",
              "      <td>City Hotel</td>\n",
              "      <td>84507</td>\n",
              "      <td>4944.0</td>\n",
              "      <td>89451.0</td>\n",
              "    </tr>\n",
              "    <tr>\n",
              "      <td>Resort Hotel</td>\n",
              "      <td>53015</td>\n",
              "      <td>3524.0</td>\n",
              "      <td>56539.0</td>\n",
              "    </tr>\n",
              "  </tbody>\n",
              "</table>\n",
              "</div>"
            ],
            "text/plain": [
              "              adults    kids  total_visitors\n",
              "hotel                                       \n",
              "City Hotel     84507  4944.0         89451.0\n",
              "Resort Hotel   53015  3524.0         56539.0"
            ]
          },
          "metadata": {
            "tags": []
          },
          "execution_count": 20
        }
      ]
    },
    {
      "cell_type": "markdown",
      "metadata": {
        "id": "d5i6eLXvz0KO"
      },
      "source": [
        "3. which hotel did outsiders visit more"
      ]
    },
    {
      "cell_type": "code",
      "metadata": {
        "id": "g23rZMKFz0KP",
        "outputId": "104a8855-07af-4332-d2f6-8c5efb5bff19"
      },
      "source": [
        "#slicing the dataset to get records of visitors who were not from portugal\n",
        "outsiders=showed_up.loc[hotelbooking['country']!='PRT']\n",
        "outsiders.head(5)"
      ],
      "execution_count": null,
      "outputs": [
        {
          "output_type": "execute_result",
          "data": {
            "text/html": [
              "<div>\n",
              "<style scoped>\n",
              "    .dataframe tbody tr th:only-of-type {\n",
              "        vertical-align: middle;\n",
              "    }\n",
              "\n",
              "    .dataframe tbody tr th {\n",
              "        vertical-align: top;\n",
              "    }\n",
              "\n",
              "    .dataframe thead th {\n",
              "        text-align: right;\n",
              "    }\n",
              "</style>\n",
              "<table border=\"1\" class=\"dataframe\">\n",
              "  <thead>\n",
              "    <tr style=\"text-align: right;\">\n",
              "      <th></th>\n",
              "      <th>hotel</th>\n",
              "      <th>is_canceled</th>\n",
              "      <th>lead_time</th>\n",
              "      <th>arrival_date_year</th>\n",
              "      <th>arrival_date_month</th>\n",
              "      <th>arrival_date_week_number</th>\n",
              "      <th>arrival_date_day_of_month</th>\n",
              "      <th>stays_in_weekend_nights</th>\n",
              "      <th>stays_in_week_nights</th>\n",
              "      <th>adults</th>\n",
              "      <th>...</th>\n",
              "      <th>agent</th>\n",
              "      <th>days_in_waiting_list</th>\n",
              "      <th>customer_type</th>\n",
              "      <th>price</th>\n",
              "      <th>required_car_parking_spaces</th>\n",
              "      <th>total_of_special_requests</th>\n",
              "      <th>reservation_status</th>\n",
              "      <th>reservation_status_date</th>\n",
              "      <th>kids</th>\n",
              "      <th>total_visitors</th>\n",
              "    </tr>\n",
              "  </thead>\n",
              "  <tbody>\n",
              "    <tr>\n",
              "      <td>2</td>\n",
              "      <td>Resort Hotel</td>\n",
              "      <td>0</td>\n",
              "      <td>7</td>\n",
              "      <td>2015</td>\n",
              "      <td>July</td>\n",
              "      <td>27</td>\n",
              "      <td>1</td>\n",
              "      <td>0</td>\n",
              "      <td>1</td>\n",
              "      <td>1</td>\n",
              "      <td>...</td>\n",
              "      <td>304.0</td>\n",
              "      <td>0</td>\n",
              "      <td>Transient</td>\n",
              "      <td>75.0</td>\n",
              "      <td>0</td>\n",
              "      <td>0</td>\n",
              "      <td>Check-Out</td>\n",
              "      <td>2015-07-02</td>\n",
              "      <td>0.0</td>\n",
              "      <td>1.0</td>\n",
              "    </tr>\n",
              "    <tr>\n",
              "      <td>3</td>\n",
              "      <td>Resort Hotel</td>\n",
              "      <td>0</td>\n",
              "      <td>13</td>\n",
              "      <td>2015</td>\n",
              "      <td>July</td>\n",
              "      <td>27</td>\n",
              "      <td>1</td>\n",
              "      <td>0</td>\n",
              "      <td>1</td>\n",
              "      <td>1</td>\n",
              "      <td>...</td>\n",
              "      <td>304.0</td>\n",
              "      <td>0</td>\n",
              "      <td>Transient</td>\n",
              "      <td>75.0</td>\n",
              "      <td>0</td>\n",
              "      <td>0</td>\n",
              "      <td>Check-Out</td>\n",
              "      <td>2015-07-02</td>\n",
              "      <td>0.0</td>\n",
              "      <td>1.0</td>\n",
              "    </tr>\n",
              "    <tr>\n",
              "      <td>4</td>\n",
              "      <td>Resort Hotel</td>\n",
              "      <td>0</td>\n",
              "      <td>14</td>\n",
              "      <td>2015</td>\n",
              "      <td>July</td>\n",
              "      <td>27</td>\n",
              "      <td>1</td>\n",
              "      <td>0</td>\n",
              "      <td>2</td>\n",
              "      <td>2</td>\n",
              "      <td>...</td>\n",
              "      <td>240.0</td>\n",
              "      <td>0</td>\n",
              "      <td>Transient</td>\n",
              "      <td>98.0</td>\n",
              "      <td>0</td>\n",
              "      <td>1</td>\n",
              "      <td>Check-Out</td>\n",
              "      <td>2015-07-03</td>\n",
              "      <td>0.0</td>\n",
              "      <td>2.0</td>\n",
              "    </tr>\n",
              "    <tr>\n",
              "      <td>5</td>\n",
              "      <td>Resort Hotel</td>\n",
              "      <td>0</td>\n",
              "      <td>14</td>\n",
              "      <td>2015</td>\n",
              "      <td>July</td>\n",
              "      <td>27</td>\n",
              "      <td>1</td>\n",
              "      <td>0</td>\n",
              "      <td>2</td>\n",
              "      <td>2</td>\n",
              "      <td>...</td>\n",
              "      <td>240.0</td>\n",
              "      <td>0</td>\n",
              "      <td>Transient</td>\n",
              "      <td>98.0</td>\n",
              "      <td>0</td>\n",
              "      <td>1</td>\n",
              "      <td>Check-Out</td>\n",
              "      <td>2015-07-03</td>\n",
              "      <td>0.0</td>\n",
              "      <td>2.0</td>\n",
              "    </tr>\n",
              "    <tr>\n",
              "      <td>12</td>\n",
              "      <td>Resort Hotel</td>\n",
              "      <td>0</td>\n",
              "      <td>68</td>\n",
              "      <td>2015</td>\n",
              "      <td>July</td>\n",
              "      <td>27</td>\n",
              "      <td>1</td>\n",
              "      <td>0</td>\n",
              "      <td>4</td>\n",
              "      <td>2</td>\n",
              "      <td>...</td>\n",
              "      <td>240.0</td>\n",
              "      <td>0</td>\n",
              "      <td>Transient</td>\n",
              "      <td>97.0</td>\n",
              "      <td>0</td>\n",
              "      <td>3</td>\n",
              "      <td>Check-Out</td>\n",
              "      <td>2015-07-05</td>\n",
              "      <td>0.0</td>\n",
              "      <td>2.0</td>\n",
              "    </tr>\n",
              "  </tbody>\n",
              "</table>\n",
              "<p>5 rows × 31 columns</p>\n",
              "</div>"
            ],
            "text/plain": [
              "           hotel  is_canceled  lead_time  arrival_date_year  \\\n",
              "2   Resort Hotel            0          7               2015   \n",
              "3   Resort Hotel            0         13               2015   \n",
              "4   Resort Hotel            0         14               2015   \n",
              "5   Resort Hotel            0         14               2015   \n",
              "12  Resort Hotel            0         68               2015   \n",
              "\n",
              "   arrival_date_month  arrival_date_week_number  arrival_date_day_of_month  \\\n",
              "2                July                        27                          1   \n",
              "3                July                        27                          1   \n",
              "4                July                        27                          1   \n",
              "5                July                        27                          1   \n",
              "12               July                        27                          1   \n",
              "\n",
              "    stays_in_weekend_nights  stays_in_week_nights  adults  ...  agent  \\\n",
              "2                         0                     1       1  ...  304.0   \n",
              "3                         0                     1       1  ...  304.0   \n",
              "4                         0                     2       2  ...  240.0   \n",
              "5                         0                     2       2  ...  240.0   \n",
              "12                        0                     4       2  ...  240.0   \n",
              "\n",
              "   days_in_waiting_list customer_type price  required_car_parking_spaces  \\\n",
              "2                     0     Transient  75.0                            0   \n",
              "3                     0     Transient  75.0                            0   \n",
              "4                     0     Transient  98.0                            0   \n",
              "5                     0     Transient  98.0                            0   \n",
              "12                    0     Transient  97.0                            0   \n",
              "\n",
              "    total_of_special_requests  reservation_status reservation_status_date  \\\n",
              "2                           0           Check-Out              2015-07-02   \n",
              "3                           0           Check-Out              2015-07-02   \n",
              "4                           1           Check-Out              2015-07-03   \n",
              "5                           1           Check-Out              2015-07-03   \n",
              "12                          3           Check-Out              2015-07-05   \n",
              "\n",
              "   kids  total_visitors  \n",
              "2   0.0             1.0  \n",
              "3   0.0             1.0  \n",
              "4   0.0             2.0  \n",
              "5   0.0             2.0  \n",
              "12  0.0             2.0  \n",
              "\n",
              "[5 rows x 31 columns]"
            ]
          },
          "metadata": {
            "tags": []
          },
          "execution_count": 21
        }
      ]
    },
    {
      "cell_type": "code",
      "metadata": {
        "id": "LO5SvQHbz0KP",
        "outputId": "495006d9-2093-4716-c612-225c4db58f3f"
      },
      "source": [
        "outsidershotel=pd.pivot_table(outsiders,values=['total_visitors','adults','kids'],index=['hotel'],aggfunc=np.sum)\n",
        "outsidershotel.sort_values(by='total_visitors',ascending=False)\n",
        "\n",
        "# most non portugues visitors prefered to visit the city hotel"
      ],
      "execution_count": null,
      "outputs": [
        {
          "output_type": "execute_result",
          "data": {
            "text/html": [
              "<div>\n",
              "<style scoped>\n",
              "    .dataframe tbody tr th:only-of-type {\n",
              "        vertical-align: middle;\n",
              "    }\n",
              "\n",
              "    .dataframe tbody tr th {\n",
              "        vertical-align: top;\n",
              "    }\n",
              "\n",
              "    .dataframe thead th {\n",
              "        text-align: right;\n",
              "    }\n",
              "</style>\n",
              "<table border=\"1\" class=\"dataframe\">\n",
              "  <thead>\n",
              "    <tr style=\"text-align: right;\">\n",
              "      <th></th>\n",
              "      <th>adults</th>\n",
              "      <th>kids</th>\n",
              "      <th>total_visitors</th>\n",
              "    </tr>\n",
              "    <tr>\n",
              "      <th>hotel</th>\n",
              "      <th></th>\n",
              "      <th></th>\n",
              "      <th></th>\n",
              "    </tr>\n",
              "  </thead>\n",
              "  <tbody>\n",
              "    <tr>\n",
              "      <td>City Hotel</td>\n",
              "      <td>66634</td>\n",
              "      <td>4001.0</td>\n",
              "      <td>70635.0</td>\n",
              "    </tr>\n",
              "    <tr>\n",
              "      <td>Resort Hotel</td>\n",
              "      <td>35551</td>\n",
              "      <td>2144.0</td>\n",
              "      <td>37695.0</td>\n",
              "    </tr>\n",
              "  </tbody>\n",
              "</table>\n",
              "</div>"
            ],
            "text/plain": [
              "              adults    kids  total_visitors\n",
              "hotel                                       \n",
              "City Hotel     66634  4001.0         70635.0\n",
              "Resort Hotel   35551  2144.0         37695.0"
            ]
          },
          "metadata": {
            "tags": []
          },
          "execution_count": 22
        }
      ]
    },
    {
      "cell_type": "markdown",
      "metadata": {
        "id": "vc-VqEgQz0KQ"
      },
      "source": [
        "4. do foreign visitors pay different amounts from the local visitors"
      ]
    },
    {
      "cell_type": "code",
      "metadata": {
        "id": "gGeWWOSZz0KQ",
        "outputId": "dab94512-8133-442a-81c1-a3116e5d75af"
      },
      "source": [
        "showed_up['averageprice']=showed_up['price']/showed_up['total_visitors']\n",
        "visitorpay=pd.pivot_table(showed_up,values=['total_visitors','price','averageprice'],index=['country'],aggfunc=np.sum)\n",
        "visitorpay.sort_values(by='averageprice',ascending=True).head(10)\n",
        "\n",
        "#on average, foreign visitors pay different amounts from the local visitors"
      ],
      "execution_count": null,
      "outputs": [
        {
          "output_type": "stream",
          "text": [
            "C:\\Users\\carol\\Anaconda3\\lib\\site-packages\\ipykernel_launcher.py:1: SettingWithCopyWarning: \n",
            "A value is trying to be set on a copy of a slice from a DataFrame.\n",
            "Try using .loc[row_indexer,col_indexer] = value instead\n",
            "\n",
            "See the caveats in the documentation: http://pandas.pydata.org/pandas-docs/stable/user_guide/indexing.html#returning-a-view-versus-a-copy\n",
            "  \"\"\"Entry point for launching an IPython kernel.\n"
          ],
          "name": "stderr"
        },
        {
          "output_type": "execute_result",
          "data": {
            "text/html": [
              "<div>\n",
              "<style scoped>\n",
              "    .dataframe tbody tr th:only-of-type {\n",
              "        vertical-align: middle;\n",
              "    }\n",
              "\n",
              "    .dataframe tbody tr th {\n",
              "        vertical-align: top;\n",
              "    }\n",
              "\n",
              "    .dataframe thead th {\n",
              "        text-align: right;\n",
              "    }\n",
              "</style>\n",
              "<table border=\"1\" class=\"dataframe\">\n",
              "  <thead>\n",
              "    <tr style=\"text-align: right;\">\n",
              "      <th></th>\n",
              "      <th>averageprice</th>\n",
              "      <th>price</th>\n",
              "      <th>total_visitors</th>\n",
              "    </tr>\n",
              "    <tr>\n",
              "      <th>country</th>\n",
              "      <th></th>\n",
              "      <th></th>\n",
              "      <th></th>\n",
              "    </tr>\n",
              "  </thead>\n",
              "  <tbody>\n",
              "    <tr>\n",
              "      <td>CYM</td>\n",
              "      <td>20.2500</td>\n",
              "      <td>40.50</td>\n",
              "      <td>2.0</td>\n",
              "    </tr>\n",
              "    <tr>\n",
              "      <td>MDG</td>\n",
              "      <td>22.0000</td>\n",
              "      <td>44.00</td>\n",
              "      <td>2.0</td>\n",
              "    </tr>\n",
              "    <tr>\n",
              "      <td>BDI</td>\n",
              "      <td>23.0000</td>\n",
              "      <td>46.00</td>\n",
              "      <td>2.0</td>\n",
              "    </tr>\n",
              "    <tr>\n",
              "      <td>ZMB</td>\n",
              "      <td>24.1675</td>\n",
              "      <td>96.67</td>\n",
              "      <td>4.0</td>\n",
              "    </tr>\n",
              "    <tr>\n",
              "      <td>BHS</td>\n",
              "      <td>25.4250</td>\n",
              "      <td>50.85</td>\n",
              "      <td>2.0</td>\n",
              "    </tr>\n",
              "    <tr>\n",
              "      <td>ASM</td>\n",
              "      <td>36.0350</td>\n",
              "      <td>72.07</td>\n",
              "      <td>2.0</td>\n",
              "    </tr>\n",
              "    <tr>\n",
              "      <td>BWA</td>\n",
              "      <td>39.5000</td>\n",
              "      <td>118.50</td>\n",
              "      <td>3.0</td>\n",
              "    </tr>\n",
              "    <tr>\n",
              "      <td>BFA</td>\n",
              "      <td>40.1500</td>\n",
              "      <td>80.30</td>\n",
              "      <td>2.0</td>\n",
              "    </tr>\n",
              "    <tr>\n",
              "      <td>LCA</td>\n",
              "      <td>40.3750</td>\n",
              "      <td>80.75</td>\n",
              "      <td>2.0</td>\n",
              "    </tr>\n",
              "    <tr>\n",
              "      <td>BHR</td>\n",
              "      <td>40.3750</td>\n",
              "      <td>80.75</td>\n",
              "      <td>2.0</td>\n",
              "    </tr>\n",
              "  </tbody>\n",
              "</table>\n",
              "</div>"
            ],
            "text/plain": [
              "         averageprice   price  total_visitors\n",
              "country                                      \n",
              "CYM           20.2500   40.50             2.0\n",
              "MDG           22.0000   44.00             2.0\n",
              "BDI           23.0000   46.00             2.0\n",
              "ZMB           24.1675   96.67             4.0\n",
              "BHS           25.4250   50.85             2.0\n",
              "ASM           36.0350   72.07             2.0\n",
              "BWA           39.5000  118.50             3.0\n",
              "BFA           40.1500   80.30             2.0\n",
              "LCA           40.3750   80.75             2.0\n",
              "BHR           40.3750   80.75             2.0"
            ]
          },
          "metadata": {
            "tags": []
          },
          "execution_count": 29
        }
      ]
    },
    {
      "cell_type": "markdown",
      "metadata": {
        "id": "K35QPDs1z0KR"
      },
      "source": [
        "5. which month do most visitors arrive in the hotels?"
      ]
    },
    {
      "cell_type": "code",
      "metadata": {
        "id": "kXueshJTz0KR",
        "outputId": "67ccf4c0-1b29-4dd7-c09e-f39718e800a5"
      },
      "source": [
        "#which month did most visitors arrive in\n",
        "monthvisitors=pd.pivot_table(showed_up,values=['total_visitors','adults','kids'],index=['arrival_date_month'],aggfunc=np.sum)\n",
        "monthvisitors.sort_values(by='total_visitors',ascending=False)\n",
        "\n",
        "#the month of august had the most visitors while that of  January had the least number of visitors\n",
        "#most visitors with kids visited the hotels in the month of August \n",
        "#the month of November had the least number of kids visiting the hotels"
      ],
      "execution_count": null,
      "outputs": [
        {
          "output_type": "execute_result",
          "data": {
            "text/html": [
              "<div>\n",
              "<style scoped>\n",
              "    .dataframe tbody tr th:only-of-type {\n",
              "        vertical-align: middle;\n",
              "    }\n",
              "\n",
              "    .dataframe tbody tr th {\n",
              "        vertical-align: top;\n",
              "    }\n",
              "\n",
              "    .dataframe thead th {\n",
              "        text-align: right;\n",
              "    }\n",
              "</style>\n",
              "<table border=\"1\" class=\"dataframe\">\n",
              "  <thead>\n",
              "    <tr style=\"text-align: right;\">\n",
              "      <th></th>\n",
              "      <th>adults</th>\n",
              "      <th>kids</th>\n",
              "      <th>total_visitors</th>\n",
              "    </tr>\n",
              "    <tr>\n",
              "      <th>arrival_date_month</th>\n",
              "      <th></th>\n",
              "      <th></th>\n",
              "      <th></th>\n",
              "    </tr>\n",
              "  </thead>\n",
              "  <tbody>\n",
              "    <tr>\n",
              "      <td>August</td>\n",
              "      <td>17163</td>\n",
              "      <td>1967.0</td>\n",
              "      <td>19130.0</td>\n",
              "    </tr>\n",
              "    <tr>\n",
              "      <td>July</td>\n",
              "      <td>15697</td>\n",
              "      <td>1618.0</td>\n",
              "      <td>17315.0</td>\n",
              "    </tr>\n",
              "    <tr>\n",
              "      <td>May</td>\n",
              "      <td>12930</td>\n",
              "      <td>511.0</td>\n",
              "      <td>13441.0</td>\n",
              "    </tr>\n",
              "    <tr>\n",
              "      <td>April</td>\n",
              "      <td>12138</td>\n",
              "      <td>695.0</td>\n",
              "      <td>12833.0</td>\n",
              "    </tr>\n",
              "    <tr>\n",
              "      <td>October</td>\n",
              "      <td>12229</td>\n",
              "      <td>491.0</td>\n",
              "      <td>12720.0</td>\n",
              "    </tr>\n",
              "    <tr>\n",
              "      <td>June</td>\n",
              "      <td>11899</td>\n",
              "      <td>621.0</td>\n",
              "      <td>12520.0</td>\n",
              "    </tr>\n",
              "    <tr>\n",
              "      <td>March</td>\n",
              "      <td>11779</td>\n",
              "      <td>464.0</td>\n",
              "      <td>12243.0</td>\n",
              "    </tr>\n",
              "    <tr>\n",
              "      <td>September</td>\n",
              "      <td>11649</td>\n",
              "      <td>419.0</td>\n",
              "      <td>12068.0</td>\n",
              "    </tr>\n",
              "    <tr>\n",
              "      <td>February</td>\n",
              "      <td>9435</td>\n",
              "      <td>594.0</td>\n",
              "      <td>10029.0</td>\n",
              "    </tr>\n",
              "    <tr>\n",
              "      <td>December</td>\n",
              "      <td>7965</td>\n",
              "      <td>523.0</td>\n",
              "      <td>8488.0</td>\n",
              "    </tr>\n",
              "    <tr>\n",
              "      <td>November</td>\n",
              "      <td>7797</td>\n",
              "      <td>220.0</td>\n",
              "      <td>8017.0</td>\n",
              "    </tr>\n",
              "    <tr>\n",
              "      <td>January</td>\n",
              "      <td>6841</td>\n",
              "      <td>345.0</td>\n",
              "      <td>7186.0</td>\n",
              "    </tr>\n",
              "  </tbody>\n",
              "</table>\n",
              "</div>"
            ],
            "text/plain": [
              "                    adults    kids  total_visitors\n",
              "arrival_date_month                                \n",
              "August               17163  1967.0         19130.0\n",
              "July                 15697  1618.0         17315.0\n",
              "May                  12930   511.0         13441.0\n",
              "April                12138   695.0         12833.0\n",
              "October              12229   491.0         12720.0\n",
              "June                 11899   621.0         12520.0\n",
              "March                11779   464.0         12243.0\n",
              "September            11649   419.0         12068.0\n",
              "February              9435   594.0         10029.0\n",
              "December              7965   523.0          8488.0\n",
              "November              7797   220.0          8017.0\n",
              "January               6841   345.0          7186.0"
            ]
          },
          "metadata": {
            "tags": []
          },
          "execution_count": 24
        }
      ]
    },
    {
      "cell_type": "code",
      "metadata": {
        "id": "Sj9k8v8Jz0KS",
        "outputId": "0a761d02-e2e2-47b4-8216-551611787485"
      },
      "source": [
        "# which month do most outsiders visit the hotels\n",
        "foreignermonths=pd.pivot_table(outsiders,values=['total_visitors','adults','kids'],index=['arrival_date_month'],aggfunc=np.sum)\n",
        "foreignermonths.sort_values(by='total_visitors',ascending=False)\n",
        "\n",
        "#most foreign visitors visited the hotels in the month of August\n",
        "# the least number of foreign visitors in the hotels was in the month of January"
      ],
      "execution_count": null,
      "outputs": [
        {
          "output_type": "execute_result",
          "data": {
            "text/html": [
              "<div>\n",
              "<style scoped>\n",
              "    .dataframe tbody tr th:only-of-type {\n",
              "        vertical-align: middle;\n",
              "    }\n",
              "\n",
              "    .dataframe tbody tr th {\n",
              "        vertical-align: top;\n",
              "    }\n",
              "\n",
              "    .dataframe thead th {\n",
              "        text-align: right;\n",
              "    }\n",
              "</style>\n",
              "<table border=\"1\" class=\"dataframe\">\n",
              "  <thead>\n",
              "    <tr style=\"text-align: right;\">\n",
              "      <th></th>\n",
              "      <th>adults</th>\n",
              "      <th>kids</th>\n",
              "      <th>total_visitors</th>\n",
              "    </tr>\n",
              "    <tr>\n",
              "      <th>arrival_date_month</th>\n",
              "      <th></th>\n",
              "      <th></th>\n",
              "      <th></th>\n",
              "    </tr>\n",
              "  </thead>\n",
              "  <tbody>\n",
              "    <tr>\n",
              "      <td>August</td>\n",
              "      <td>12677</td>\n",
              "      <td>1342.0</td>\n",
              "      <td>14019.0</td>\n",
              "    </tr>\n",
              "    <tr>\n",
              "      <td>July</td>\n",
              "      <td>11380</td>\n",
              "      <td>1166.0</td>\n",
              "      <td>12546.0</td>\n",
              "    </tr>\n",
              "    <tr>\n",
              "      <td>May</td>\n",
              "      <td>10555</td>\n",
              "      <td>411.0</td>\n",
              "      <td>10966.0</td>\n",
              "    </tr>\n",
              "    <tr>\n",
              "      <td>April</td>\n",
              "      <td>9676</td>\n",
              "      <td>575.0</td>\n",
              "      <td>10251.0</td>\n",
              "    </tr>\n",
              "    <tr>\n",
              "      <td>June</td>\n",
              "      <td>9404</td>\n",
              "      <td>474.0</td>\n",
              "      <td>9878.0</td>\n",
              "    </tr>\n",
              "    <tr>\n",
              "      <td>October</td>\n",
              "      <td>9250</td>\n",
              "      <td>405.0</td>\n",
              "      <td>9655.0</td>\n",
              "    </tr>\n",
              "    <tr>\n",
              "      <td>March</td>\n",
              "      <td>8831</td>\n",
              "      <td>337.0</td>\n",
              "      <td>9168.0</td>\n",
              "    </tr>\n",
              "    <tr>\n",
              "      <td>September</td>\n",
              "      <td>8847</td>\n",
              "      <td>296.0</td>\n",
              "      <td>9143.0</td>\n",
              "    </tr>\n",
              "    <tr>\n",
              "      <td>February</td>\n",
              "      <td>6341</td>\n",
              "      <td>441.0</td>\n",
              "      <td>6782.0</td>\n",
              "    </tr>\n",
              "    <tr>\n",
              "      <td>November</td>\n",
              "      <td>5528</td>\n",
              "      <td>124.0</td>\n",
              "      <td>5652.0</td>\n",
              "    </tr>\n",
              "    <tr>\n",
              "      <td>December</td>\n",
              "      <td>5263</td>\n",
              "      <td>345.0</td>\n",
              "      <td>5608.0</td>\n",
              "    </tr>\n",
              "    <tr>\n",
              "      <td>January</td>\n",
              "      <td>4433</td>\n",
              "      <td>229.0</td>\n",
              "      <td>4662.0</td>\n",
              "    </tr>\n",
              "  </tbody>\n",
              "</table>\n",
              "</div>"
            ],
            "text/plain": [
              "                    adults    kids  total_visitors\n",
              "arrival_date_month                                \n",
              "August               12677  1342.0         14019.0\n",
              "July                 11380  1166.0         12546.0\n",
              "May                  10555   411.0         10966.0\n",
              "April                 9676   575.0         10251.0\n",
              "June                  9404   474.0          9878.0\n",
              "October               9250   405.0          9655.0\n",
              "March                 8831   337.0          9168.0\n",
              "September             8847   296.0          9143.0\n",
              "February              6341   441.0          6782.0\n",
              "November              5528   124.0          5652.0\n",
              "December              5263   345.0          5608.0\n",
              "January               4433   229.0          4662.0"
            ]
          },
          "metadata": {
            "tags": []
          },
          "execution_count": 25
        }
      ]
    },
    {
      "cell_type": "markdown",
      "metadata": {
        "id": "AJ33WgHMz0KS"
      },
      "source": [
        "6.which month was the cheapest to travel"
      ]
    },
    {
      "cell_type": "code",
      "metadata": {
        "id": "Po9Jp3xlz0KT",
        "outputId": "937901ee-c181-453d-cabe-1d61de664188"
      },
      "source": [
        "montavgprice=pd.pivot_table(showed_up,values=['averageprice',],index=['arrival_date_month'],aggfunc=np.sum)\n",
        "montavgprice.sort_values(by='averageprice',ascending=False)"
      ],
      "execution_count": null,
      "outputs": [
        {
          "output_type": "execute_result",
          "data": {
            "text/html": [
              "<div>\n",
              "<style scoped>\n",
              "    .dataframe tbody tr th:only-of-type {\n",
              "        vertical-align: middle;\n",
              "    }\n",
              "\n",
              "    .dataframe tbody tr th {\n",
              "        vertical-align: top;\n",
              "    }\n",
              "\n",
              "    .dataframe thead th {\n",
              "        text-align: right;\n",
              "    }\n",
              "</style>\n",
              "<table border=\"1\" class=\"dataframe\">\n",
              "  <thead>\n",
              "    <tr style=\"text-align: right;\">\n",
              "      <th></th>\n",
              "      <th>averageprice</th>\n",
              "    </tr>\n",
              "    <tr>\n",
              "      <th>arrival_date_month</th>\n",
              "      <th></th>\n",
              "    </tr>\n",
              "  </thead>\n",
              "  <tbody>\n",
              "    <tr>\n",
              "      <td>August</td>\n",
              "      <td>577534.550833</td>\n",
              "    </tr>\n",
              "    <tr>\n",
              "      <td>July</td>\n",
              "      <td>491404.729667</td>\n",
              "    </tr>\n",
              "    <tr>\n",
              "      <td>May</td>\n",
              "      <td>425355.476500</td>\n",
              "    </tr>\n",
              "    <tr>\n",
              "      <td>June</td>\n",
              "      <td>402764.392167</td>\n",
              "    </tr>\n",
              "    <tr>\n",
              "      <td>September</td>\n",
              "      <td>391621.454167</td>\n",
              "    </tr>\n",
              "    <tr>\n",
              "      <td>October</td>\n",
              "      <td>357193.886833</td>\n",
              "    </tr>\n",
              "    <tr>\n",
              "      <td>April</td>\n",
              "      <td>346333.113500</td>\n",
              "    </tr>\n",
              "    <tr>\n",
              "      <td>March</td>\n",
              "      <td>299515.645667</td>\n",
              "    </tr>\n",
              "    <tr>\n",
              "      <td>February</td>\n",
              "      <td>225952.510167</td>\n",
              "    </tr>\n",
              "    <tr>\n",
              "      <td>November</td>\n",
              "      <td>211816.172500</td>\n",
              "    </tr>\n",
              "    <tr>\n",
              "      <td>December</td>\n",
              "      <td>188475.101667</td>\n",
              "    </tr>\n",
              "    <tr>\n",
              "      <td>January</td>\n",
              "      <td>173053.647500</td>\n",
              "    </tr>\n",
              "  </tbody>\n",
              "</table>\n",
              "</div>"
            ],
            "text/plain": [
              "                     averageprice\n",
              "arrival_date_month               \n",
              "August              577534.550833\n",
              "July                491404.729667\n",
              "May                 425355.476500\n",
              "June                402764.392167\n",
              "September           391621.454167\n",
              "October             357193.886833\n",
              "April               346333.113500\n",
              "March               299515.645667\n",
              "February            225952.510167\n",
              "November            211816.172500\n",
              "December            188475.101667\n",
              "January             173053.647500"
            ]
          },
          "metadata": {
            "tags": []
          },
          "execution_count": 26
        }
      ]
    },
    {
      "cell_type": "code",
      "metadata": {
        "id": "2FWMgtb4z0KT"
      },
      "source": [
        "#the month of august is the most expensive\n",
        "# the month of January is the cheapest time to travel"
      ],
      "execution_count": null,
      "outputs": []
    },
    {
      "cell_type": "code",
      "metadata": {
        "id": "wUgjfHXYz0KU"
      },
      "source": [
        ""
      ],
      "execution_count": null,
      "outputs": []
    }
  ]
}